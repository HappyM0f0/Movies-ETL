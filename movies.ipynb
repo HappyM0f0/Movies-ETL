{
 "cells": [
  {
   "cell_type": "code",
   "execution_count": 59,
   "source": [
    "import json\r\n",
    "import pandas as pd\r\n",
    "import numpy as np\r\n",
    "import pprint"
   ],
   "outputs": [],
   "metadata": {}
  },
  {
   "cell_type": "code",
   "execution_count": 33,
   "source": [
    "file_dir = \"C:\\\\Users\\Black\\Documents\\GitHub\\Movies-ETL\""
   ],
   "outputs": [],
   "metadata": {}
  },
  {
   "cell_type": "code",
   "execution_count": 34,
   "source": [
    "f'{file_dir}filename'"
   ],
   "outputs": [
    {
     "output_type": "execute_result",
     "data": {
      "text/plain": [
       "'C:\\\\Users\\\\Black\\\\Documents\\\\GitHub\\\\Movies-ETLfilename'"
      ]
     },
     "metadata": {},
     "execution_count": 34
    }
   ],
   "metadata": {}
  },
  {
   "cell_type": "code",
   "execution_count": 36,
   "source": [
    "with open(f'{file_dir}\\wikipedia-movies.json', mode='r') as file:\r\n",
    "    wiki_movies_raw = json.load(file)"
   ],
   "outputs": [],
   "metadata": {}
  },
  {
   "cell_type": "code",
   "execution_count": 37,
   "source": [
    "len(wiki_movies_raw)"
   ],
   "outputs": [
    {
     "output_type": "execute_result",
     "data": {
      "text/plain": [
       "7311"
      ]
     },
     "metadata": {},
     "execution_count": 37
    }
   ],
   "metadata": {}
  },
  {
   "cell_type": "code",
   "execution_count": null,
   "source": [
    "# First 5 records\r\n",
    "wiki_movies_raw[:5]"
   ],
   "outputs": [],
   "metadata": {}
  },
  {
   "cell_type": "code",
   "execution_count": null,
   "source": [
    "# Last 5 records\r\n",
    "wiki_movies_raw[-5:]"
   ],
   "outputs": [],
   "metadata": {}
  },
  {
   "cell_type": "code",
   "execution_count": null,
   "source": [
    "# Some records in the middle\r\n",
    "wiki_movies_raw[3600:3605]"
   ],
   "outputs": [],
   "metadata": {}
  },
  {
   "cell_type": "code",
   "execution_count": 44,
   "source": [
    "kaggle_metadata = pd.read_csv(f'{file_dir}\\movies_metadata.csv', low_memory=False)\r\n",
    "ratings = pd.read_csv(f'{file_dir}\\Ratings.csv')\r\n"
   ],
   "outputs": [],
   "metadata": {}
  },
  {
   "cell_type": "code",
   "execution_count": null,
   "source": [
    "kaggle_metadata.sample(3)"
   ],
   "outputs": [],
   "metadata": {}
  },
  {
   "cell_type": "code",
   "execution_count": 48,
   "source": [
    "wiki_movies_df = pd.DataFrame(wiki_movies_raw)"
   ],
   "outputs": [],
   "metadata": {}
  },
  {
   "cell_type": "code",
   "execution_count": null,
   "source": [
    "wiki_movies_df.columns.tolist() # lists all columns in df"
   ],
   "outputs": [],
   "metadata": {}
  },
  {
   "cell_type": "code",
   "execution_count": 65,
   "source": [
    "wiki_movies = [movie for movie in wiki_movies_raw\r\n",
    "               if ('Director' in movie or 'Directed by' in movie)\r\n",
    "                   and 'imdb_link' in movie\r\n",
    "                   and 'No. of episodes' not in movie]\r\n",
    "len(wiki_movies)"
   ],
   "outputs": [
    {
     "output_type": "execute_result",
     "data": {
      "text/plain": [
       "7076"
      ]
     },
     "metadata": {},
     "execution_count": 65
    }
   ],
   "metadata": {}
  },
  {
   "cell_type": "code",
   "execution_count": null,
   "source": [
    "pd.DataFrame(wiki_movies).head(3)"
   ],
   "outputs": [],
   "metadata": {}
  },
  {
   "cell_type": "code",
   "execution_count": 96,
   "source": [
    "def clean_movie(movie):\r\n",
    "    movie = dict(movie) #create a non-destructive copy\r\n",
    "    alt_titles = {}\r\n",
    "    for key in ['Also known as','Arabic','Cantonese','Chinese','French',\r\n",
    "                'Hangul','Hebrew','Hepburn','Japanese','Literally',\r\n",
    "                'Mandarin','McCune–Reischauer','Original title','Polish',\r\n",
    "                'Revised Romanization','Romanized','Russian',\r\n",
    "                'Simplified','Traditional','Yiddish']:\r\n",
    "        if key in movie:\r\n",
    "            alt_titles[key] = movie[key]\r\n",
    "            movie.pop(key)\r\n",
    "    if len(alt_titles) > 0:\r\n",
    "        movie['alt_titles'] = alt_titles\r\n",
    "    # merge column names\r\n",
    "    def change_column_name(old_name, new_name):\r\n",
    "        if old_name in movie:\r\n",
    "            movie[new_name] = movie.pop(old_name)\r\n",
    "    change_column_name('Adaptation by', 'Writer(s)')\r\n",
    "    change_column_name('Country of origin', 'Country')\r\n",
    "    change_column_name('Directed by', 'Director')\r\n",
    "    change_column_name('Distributed by', 'Distributor')\r\n",
    "    change_column_name('Edited by', 'Editor(s)')\r\n",
    "    change_column_name('Length', 'Running time')\r\n",
    "    change_column_name('Original release', 'Release date')\r\n",
    "    change_column_name('Music by', 'Composer(s)')\r\n",
    "    change_column_name('Produced by', 'Producer(s)')\r\n",
    "    change_column_name('Producer', 'Producer(s)')\r\n",
    "    change_column_name('Productioncompanies ', 'Production company(s)')\r\n",
    "    change_column_name('Productioncompany ', 'Production company(s)')\r\n",
    "    change_column_name('Released', 'Release Date')\r\n",
    "    change_column_name('Release Date', 'Release date')\r\n",
    "    change_column_name('Screen story by', 'Writer(s)')\r\n",
    "    change_column_name('Screenplay by', 'Writer(s)')\r\n",
    "    change_column_name('Story by', 'Writer(s)')\r\n",
    "    change_column_name('Theme music composer', 'Composer(s)')\r\n",
    "    change_column_name('Written by', 'Writer(s)')\r\n",
    "\r\n",
    "        \r\n",
    "    return movie"
   ],
   "outputs": [],
   "metadata": {}
  },
  {
   "cell_type": "code",
   "execution_count": null,
   "source": [
    "clean_movies = [clean_movie(movie) for movie in wiki_movies]\r\n",
    "wiki_movies_df = pd.DataFrame(clean_movies)\r\n",
    "sorted(wiki_movies_df.columns.tolist())"
   ],
   "outputs": [],
   "metadata": {}
  }
 ],
 "metadata": {
  "orig_nbformat": 4,
  "language_info": {
   "name": "python",
   "version": "3.7.11",
   "mimetype": "text/x-python",
   "codemirror_mode": {
    "name": "ipython",
    "version": 3
   },
   "pygments_lexer": "ipython3",
   "nbconvert_exporter": "python",
   "file_extension": ".py"
  },
  "kernelspec": {
   "name": "python3",
   "display_name": "Python 3.7.10 64-bit ('PythonData': conda)"
  },
  "interpreter": {
   "hash": "b4e8a4af2d3f0b87d3d0d70f470854acd560af62de8c50d17624842ae8a5c452"
  }
 },
 "nbformat": 4,
 "nbformat_minor": 2
}